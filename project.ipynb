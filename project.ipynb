{
 "cells": [
  {
   "cell_type": "code",
   "execution_count": 1,
   "id": "1e648544",
   "metadata": {},
   "outputs": [],
   "source": [
    "import pandas as pd\n",
    "import numpy as np\n",
    "import matplotlib.pyplot as plt\n",
    "from sklearn.model_selection import train_test_split, GridSearchCV\n",
    "from sklearn import svm, linear_model, datasets\n",
    "from sklearn.preprocessing import StandardScaler\n",
    "from sklearn.pipeline import Pipeline\n",
    "from sklearn.tree import DecisionTreeClassifier\n",
    "from sklearn.neighbors import KNeighborsClassifier\n",
    "from sklearn.neighbors import KNeighborsRegressor\n",
    "from sklearn.decomposition import PCA\n",
    "from sklearn.gaussian_process import GaussianProcessRegressor\n",
    "from sklearn.gaussian_process.kernels import RBF, WhiteKernel, ConstantKernel"
   ]
  },
  {
   "cell_type": "code",
   "execution_count": 2,
   "id": "4d755a4f",
   "metadata": {},
   "outputs": [],
   "source": [
    "df = pd.read_csv('data/ParisHousing.csv') #loads data"
   ]
  },
  {
   "cell_type": "code",
   "execution_count": 3,
   "id": "b362adc8",
   "metadata": {},
   "outputs": [
    {
     "data": {
      "text/html": [
       "<div>\n",
       "<style scoped>\n",
       "    .dataframe tbody tr th:only-of-type {\n",
       "        vertical-align: middle;\n",
       "    }\n",
       "\n",
       "    .dataframe tbody tr th {\n",
       "        vertical-align: top;\n",
       "    }\n",
       "\n",
       "    .dataframe thead th {\n",
       "        text-align: right;\n",
       "    }\n",
       "</style>\n",
       "<table border=\"1\" class=\"dataframe\">\n",
       "  <thead>\n",
       "    <tr style=\"text-align: right;\">\n",
       "      <th></th>\n",
       "      <th>count</th>\n",
       "      <th>mean</th>\n",
       "      <th>std</th>\n",
       "      <th>min</th>\n",
       "      <th>25%</th>\n",
       "      <th>50%</th>\n",
       "      <th>75%</th>\n",
       "      <th>max</th>\n",
       "    </tr>\n",
       "  </thead>\n",
       "  <tbody>\n",
       "    <tr>\n",
       "      <th>squareMeters</th>\n",
       "      <td>10000.0</td>\n",
       "      <td>4.99e+04</td>\n",
       "      <td>2.88e+04</td>\n",
       "      <td>89.0</td>\n",
       "      <td>2.51e+04</td>\n",
       "      <td>5.01e+04</td>\n",
       "      <td>7.46e+04</td>\n",
       "      <td>1.00e+05</td>\n",
       "    </tr>\n",
       "    <tr>\n",
       "      <th>numberOfRooms</th>\n",
       "      <td>10000.0</td>\n",
       "      <td>5.04e+01</td>\n",
       "      <td>2.88e+01</td>\n",
       "      <td>1.0</td>\n",
       "      <td>2.50e+01</td>\n",
       "      <td>5.00e+01</td>\n",
       "      <td>7.50e+01</td>\n",
       "      <td>1.00e+02</td>\n",
       "    </tr>\n",
       "    <tr>\n",
       "      <th>floors</th>\n",
       "      <td>10000.0</td>\n",
       "      <td>5.03e+01</td>\n",
       "      <td>2.89e+01</td>\n",
       "      <td>1.0</td>\n",
       "      <td>2.50e+01</td>\n",
       "      <td>5.00e+01</td>\n",
       "      <td>7.60e+01</td>\n",
       "      <td>1.00e+02</td>\n",
       "    </tr>\n",
       "    <tr>\n",
       "      <th>cityCode</th>\n",
       "      <td>10000.0</td>\n",
       "      <td>5.02e+04</td>\n",
       "      <td>2.90e+04</td>\n",
       "      <td>3.0</td>\n",
       "      <td>2.47e+04</td>\n",
       "      <td>5.07e+04</td>\n",
       "      <td>7.57e+04</td>\n",
       "      <td>1.00e+05</td>\n",
       "    </tr>\n",
       "    <tr>\n",
       "      <th>cityPartRange</th>\n",
       "      <td>10000.0</td>\n",
       "      <td>5.51e+00</td>\n",
       "      <td>2.87e+00</td>\n",
       "      <td>1.0</td>\n",
       "      <td>3.00e+00</td>\n",
       "      <td>5.00e+00</td>\n",
       "      <td>8.00e+00</td>\n",
       "      <td>1.00e+01</td>\n",
       "    </tr>\n",
       "    <tr>\n",
       "      <th>numPrevOwners</th>\n",
       "      <td>10000.0</td>\n",
       "      <td>5.52e+00</td>\n",
       "      <td>2.86e+00</td>\n",
       "      <td>1.0</td>\n",
       "      <td>3.00e+00</td>\n",
       "      <td>5.00e+00</td>\n",
       "      <td>8.00e+00</td>\n",
       "      <td>1.00e+01</td>\n",
       "    </tr>\n",
       "    <tr>\n",
       "      <th>made</th>\n",
       "      <td>10000.0</td>\n",
       "      <td>2.01e+03</td>\n",
       "      <td>9.31e+00</td>\n",
       "      <td>1990.0</td>\n",
       "      <td>2.00e+03</td>\n",
       "      <td>2.01e+03</td>\n",
       "      <td>2.01e+03</td>\n",
       "      <td>2.02e+03</td>\n",
       "    </tr>\n",
       "    <tr>\n",
       "      <th>basement</th>\n",
       "      <td>10000.0</td>\n",
       "      <td>5.03e+03</td>\n",
       "      <td>2.88e+03</td>\n",
       "      <td>0.0</td>\n",
       "      <td>2.56e+03</td>\n",
       "      <td>5.09e+03</td>\n",
       "      <td>7.51e+03</td>\n",
       "      <td>1.00e+04</td>\n",
       "    </tr>\n",
       "    <tr>\n",
       "      <th>attic</th>\n",
       "      <td>10000.0</td>\n",
       "      <td>5.03e+03</td>\n",
       "      <td>2.89e+03</td>\n",
       "      <td>1.0</td>\n",
       "      <td>2.51e+03</td>\n",
       "      <td>5.04e+03</td>\n",
       "      <td>7.54e+03</td>\n",
       "      <td>1.00e+04</td>\n",
       "    </tr>\n",
       "    <tr>\n",
       "      <th>garage</th>\n",
       "      <td>10000.0</td>\n",
       "      <td>5.53e+02</td>\n",
       "      <td>2.62e+02</td>\n",
       "      <td>100.0</td>\n",
       "      <td>3.28e+02</td>\n",
       "      <td>5.54e+02</td>\n",
       "      <td>7.77e+02</td>\n",
       "      <td>1.00e+03</td>\n",
       "    </tr>\n",
       "    <tr>\n",
       "      <th>price</th>\n",
       "      <td>10000.0</td>\n",
       "      <td>4.99e+06</td>\n",
       "      <td>2.88e+06</td>\n",
       "      <td>10313.5</td>\n",
       "      <td>2.52e+06</td>\n",
       "      <td>5.02e+06</td>\n",
       "      <td>7.47e+06</td>\n",
       "      <td>1.00e+07</td>\n",
       "    </tr>\n",
       "  </tbody>\n",
       "</table>\n",
       "</div>"
      ],
      "text/plain": [
       "                 count      mean       std      min       25%       50%  \\\n",
       "squareMeters   10000.0  4.99e+04  2.88e+04     89.0  2.51e+04  5.01e+04   \n",
       "numberOfRooms  10000.0  5.04e+01  2.88e+01      1.0  2.50e+01  5.00e+01   \n",
       "floors         10000.0  5.03e+01  2.89e+01      1.0  2.50e+01  5.00e+01   \n",
       "cityCode       10000.0  5.02e+04  2.90e+04      3.0  2.47e+04  5.07e+04   \n",
       "cityPartRange  10000.0  5.51e+00  2.87e+00      1.0  3.00e+00  5.00e+00   \n",
       "numPrevOwners  10000.0  5.52e+00  2.86e+00      1.0  3.00e+00  5.00e+00   \n",
       "made           10000.0  2.01e+03  9.31e+00   1990.0  2.00e+03  2.01e+03   \n",
       "basement       10000.0  5.03e+03  2.88e+03      0.0  2.56e+03  5.09e+03   \n",
       "attic          10000.0  5.03e+03  2.89e+03      1.0  2.51e+03  5.04e+03   \n",
       "garage         10000.0  5.53e+02  2.62e+02    100.0  3.28e+02  5.54e+02   \n",
       "price          10000.0  4.99e+06  2.88e+06  10313.5  2.52e+06  5.02e+06   \n",
       "\n",
       "                    75%       max  \n",
       "squareMeters   7.46e+04  1.00e+05  \n",
       "numberOfRooms  7.50e+01  1.00e+02  \n",
       "floors         7.60e+01  1.00e+02  \n",
       "cityCode       7.57e+04  1.00e+05  \n",
       "cityPartRange  8.00e+00  1.00e+01  \n",
       "numPrevOwners  8.00e+00  1.00e+01  \n",
       "made           2.01e+03  2.02e+03  \n",
       "basement       7.51e+03  1.00e+04  \n",
       "attic          7.54e+03  1.00e+04  \n",
       "garage         7.77e+02  1.00e+03  \n",
       "price          7.47e+06  1.00e+07  "
      ]
     },
     "execution_count": 3,
     "metadata": {},
     "output_type": "execute_result"
    }
   ],
   "source": [
    "pd.set_option('display.precision', 2) #formatting for printed output\n",
    "#remove binary features from summary\n",
    "df.drop(columns = ['hasYard', 'hasPool', 'isNewBuilt', 'hasStormProtector',\n",
    "                   'hasStorageRoom', 'hasGuestRoom']).describe().T"
   ]
  },
  {
   "cell_type": "markdown",
   "id": "d61d0bec",
   "metadata": {},
   "source": [
    "Classification on cityPartRange (1-10 value representing the desirability of a neighborhood)"
   ]
  },
  {
   "cell_type": "code",
   "execution_count": null,
   "id": "651c4c34",
   "metadata": {},
   "outputs": [],
   "source": [
    "X = df.drop(columns='cityPartRange')\n",
    "y = df.cityPartRange\n",
    "# split 50% training data, 50% \"_tmp\" for validation & test\n",
    "X_train, X_tmp, y_train, y_tmp = train_test_split(X, y, test_size=.5,\n",
    "                                                  random_state=0, stratify=y)\n",
    "# of remaining 50%, split in half to get 25% validation, 25% test\n",
    "X_valid, X_test, y_valid, y_test = train_test_split(X_tmp, y_tmp, test_size=.5,\n",
    "  random_state=0, stratify=y_tmp)"
   ]
  },
  {
   "cell_type": "code",
   "execution_count": null,
   "id": "e5a36806",
   "metadata": {},
   "outputs": [],
   "source": [
    "def find_best_clf(clfs, params, X_train, X_valid, y_train, y_valid, only_best = True):\n",
    "  #combines clfs and gridsearch params into a dataframe\n",
    "  models = pd.DataFrame({'clf':clfs, 'params':params})\n",
    "  #creates a grid search of each clf with associated params\n",
    "  models['gridsearch'] = models.apply(lambda x: GridSearchCV(x['clf'], x['params'], n_jobs =-1, refit=True), \n",
    "                                      axis = 1)\n",
    "  #fits each grid search to training data\n",
    "  models.apply(lambda x: x['gridsearch'].fit(X_train, y_train), axis=1)\n",
    "  #finds accuracy score of each clf on validation data\n",
    "  models['accuracy'] = models.apply(lambda x: x['gridsearch'].score(X_valid, y_valid), axis = 1)\n",
    "  #sorts models by accuracy\n",
    "  models.sort_values('accuracy', ascending=False, inplace=True)\n",
    "  #returns estimator with highest validation accuracy if only_best is true\n",
    "  #else returns dataframe of all gridsearchs and acurracies sorted by accuracy\n",
    "  return models.iloc[0].gridsearch.best_estimator_ if only_best else models[['gridsearch','accuracy']]"
   ]
  },
  {
   "cell_type": "code",
   "execution_count": null,
   "id": "3ef0d0e0",
   "metadata": {},
   "outputs": [],
   "source": [
    "clf = [#DecisionTreeClassifier(random_state=0),\n",
    "       Pipeline(steps=[('pca', PCA()), ('scaler', StandardScaler()), ('knn', KNeighborsClassifier())])\n",
    "      ]\n",
    "params = [\n",
    "        #{\n",
    "        #    'max_depth': np.arange(1,20,2), \n",
    "        #    'min_samples_split': np.arange(2,20,2),\n",
    "        #    'min_samples_leaf': np.arange(1,20,2)\n",
    "        #},\n",
    "        {\n",
    "            'pca__n_components': np.arange(1,10),\n",
    "            'knn__n_neighbors': np.arange(1,20,2),\n",
    "            'knn__leaf_size': np.arange(1,20,2),\n",
    "            'knn__p':[1,2]\n",
    "        }\n",
    "         ]\n",
    "grid_search = find_best_clf(clf, params, X_train, X_valid, y_train, y_valid)"
   ]
  },
  {
   "cell_type": "code",
   "execution_count": null,
   "id": "81379742",
   "metadata": {},
   "outputs": [],
   "source": [
    "grid_search.score(X_test, y_test)"
   ]
  },
  {
   "cell_type": "markdown",
   "id": "9e9cd183",
   "metadata": {},
   "source": [
    "Regression on price"
   ]
  },
  {
   "cell_type": "code",
   "execution_count": 4,
   "id": "2cf4c0ec",
   "metadata": {},
   "outputs": [],
   "source": [
    "#X = df.drop(columns='price') change to the variables below (from r)\n",
    "X = df[[\"squareMeters\"]]\n",
    "y = df.price\n",
    "# split 80% training data, 20% \"_tmp\" for validation & test\n",
    "X_train, X_tmp, y_train, y_tmp = train_test_split(X, y, test_size=.2,\n",
    "                                                  random_state=0)\n",
    "# of remaining 20%, split in half to get 10% validation, 10% test\n",
    "X_valid, X_test, y_valid, y_test = train_test_split(X_tmp, y_tmp, test_size=.5,\n",
    "  random_state=0)"
   ]
  },
  {
   "cell_type": "code",
   "execution_count": 5,
   "id": "c491efb0",
   "metadata": {},
   "outputs": [
    {
     "data": {
      "text/plain": [
       "<matplotlib.collections.PathCollection at 0x22c380050a0>"
      ]
     },
     "execution_count": 5,
     "metadata": {},
     "output_type": "execute_result"
    },
    {
     "data": {
      "image/png": "[encoded data removed]",
      "text/plain": [
       "<Figure size 432x288 with 1 Axes>"
      ]
     },
     "metadata": {
      "needs_background": "light"
     },
     "output_type": "display_data"
    }
   ],
   "source": [
    "# tried only squareMeters and [squareMeters,other significant variables] and the MSE's still crazy and the accuracy is pretty much the same\n",
    "# after plotting price vs squareMeters, the relationship is straight up linear\n",
    "X.corr()\n",
    "df.isnull().sum()\n",
    "plt.scatter(X,y)\n",
    "# the high MSE is probably from the nature of the price values in the data\n",
    "# also this explains the ungodly high accuracy"
   ]
  },
  {
   "cell_type": "code",
   "execution_count": 6,
   "id": "2cf6dd33",
   "metadata": {},
   "outputs": [
    {
     "name": "stdout",
     "output_type": "stream",
     "text": [
      "training score = 0.9999987238468948\n",
      "testing score = 0.9999987175180519\n",
      "MSE train = 10639145.115181468\n",
      "MSE test = 10528759.486007515\n"
     ]
    }
   ],
   "source": [
    "#OLS regression\n",
    "model = linear_model.LinearRegression()\n",
    "model.fit(X_train, y_train)\n",
    "\n",
    "score_train = model.score(X_train, y_train)\n",
    "score_test = model.score(X_test, y_test)\n",
    "\n",
    "MSE_train = (1/y_train.size) * np.sum((y_train - model.predict(X_train))**2)\n",
    "MSE_test = (1/y_test.size)  * np.sum((y_test - model.predict(X_test))**2)\n",
    "\n",
    "print(f'training score = {score_train}\\ntesting score = {score_test}')\n",
    "print(f'MSE train = {MSE_train}\\nMSE test = {MSE_test}')"
   ]
  },
  {
   "cell_type": "code",
   "execution_count": 7,
   "id": "7b1ac3dc",
   "metadata": {},
   "outputs": [
    {
     "name": "stdout",
     "output_type": "stream",
     "text": [
      "training score = 0.9999989281857226\n",
      "testing score = 0.9999982249248962\n",
      "MSE train = 8935595.256884217\n",
      "MSE test = 14572789.008809505\n"
     ]
    }
   ],
   "source": [
    "#kNN regression\n",
    "model = KNeighborsRegressor(n_neighbors=5, metric='euclidean')\n",
    "model.fit(X_train, y_train)\n",
    "\n",
    "score_train = model.score(X_train, y_train)\n",
    "score_test = model.score(X_test, y_test)\n",
    "\n",
    "MSE_train = (1/y_train.size) * np.sum((y_train - model.predict(X_train))**2)\n",
    "MSE_test = (1/y_test.size)  * np.sum((y_test - model.predict(X_test))**2)\n",
    "\n",
    "print(f'training score = {score_train}\\ntesting score = {score_test}')\n",
    "print(f'MSE train = {MSE_train}\\nMSE test = {MSE_test}')"
   ]
  },
  {
   "cell_type": "code",
   "execution_count": 8,
   "id": "648c1ae8",
   "metadata": {},
   "outputs": [
    {
     "name": "stdout",
     "output_type": "stream",
     "text": [
      "training score = 0.9999987238468948\n",
      "testing score = 0.9999987175180525\n",
      "MSE train = 10639145.11518143\n",
      "MSE test = 10528759.481167357\n",
      "coefficients = [100.00006696]\n"
     ]
    }
   ],
   "source": [
    "#lasso regression\n",
    "model = linear_model.Lasso(max_iter=2000)\n",
    "model.fit(X_train, y_train)\n",
    "\n",
    "score_train = model.score(X_train, y_train)\n",
    "score_test = model.score(X_test, y_test)\n",
    "\n",
    "MSE_train = (1/y_train.size) * np.sum((y_train - model.predict(X_train))**2)\n",
    "MSE_test = (1/y_test.size)  * np.sum((y_test - model.predict(X_test))**2)\n",
    "\n",
    "print(f'training score = {score_train}\\ntesting score = {score_test}')\n",
    "print(f'MSE train = {MSE_train}\\nMSE test = {MSE_test}')\n",
    "print(f'coefficients = {model.coef_}')"
   ]
  },
  {
   "cell_type": "code",
   "execution_count": 9,
   "id": "d49c7f37",
   "metadata": {},
   "outputs": [
    {
     "name": "stdout",
     "output_type": "stream",
     "text": [
      "training score = 0.9999987238468948\n",
      "testing score = 0.9999987175180519\n",
      "MSE train = 10639145.115181472\n",
      "MSE test = 10528759.486001361\n",
      "coefficients = [100.00006696]\n"
     ]
    }
   ],
   "source": [
    "#ridge regression\n",
    "model = linear_model.Ridge(alpha=0.1)\n",
    "model.fit(X_train, y_train)\n",
    "\n",
    "score_train = model.score(X_train, y_train)\n",
    "score_test = model.score(X_test, y_test)\n",
    "\n",
    "MSE_train = (1/y_train.size) * np.sum((y_train - model.predict(X_train))**2)\n",
    "MSE_test = (1/y_test.size)  * np.sum((y_test - model.predict(X_test))**2)\n",
    "\n",
    "print(f'training score = {score_train}\\ntesting score = {score_test}')\n",
    "print(f'MSE train = {MSE_train}\\nMSE test = {MSE_test}')\n",
    "print(f'coefficients = {model.coef_}')"
   ]
  },
  {
   "cell_type": "code",
   "execution_count": null,
   "id": "3aafabfc",
   "metadata": {},
   "outputs": [],
   "source": [
    "#kernel regression"
   ]
  }
 ],
 "metadata": {
  "kernelspec": {
   "display_name": "Python 3 (ipykernel)",
   "language": "python",
   "name": "python3"
  },
  "language_info": {
   "codemirror_mode": {
    "name": "ipython",
    "version": 3
   },
   "file_extension": ".py",
   "mimetype": "text/x-python",
   "name": "python",
   "nbconvert_exporter": "python",
   "pygments_lexer": "ipython3",
   "version": "3.9.12"
  }
 },
 "nbformat": 4,
 "nbformat_minor": 5
}
